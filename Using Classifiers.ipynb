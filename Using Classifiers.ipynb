{
 "cells": [
  {
   "cell_type": "markdown",
   "metadata": {},
   "source": [
    "# Using Classfiers in Scikit Learn\n",
    "## To predict the gender given height, weight, shoe size\n",
    "\n"
   ]
  },
  {
   "cell_type": "code",
   "execution_count": 3,
   "metadata": {},
   "outputs": [],
   "source": [
    "from sklearn import tree\n",
    "from sklearn.neighbors import KNeighborsClassifier\n",
    "from sklearn.gaussian_process import GaussianProcessClassifier\n",
    "from sklearn.ensemble import RandomForestClassifier\n",
    "from sklearn.neural_network import MLPClassifier"
   ]
  },
  {
   "cell_type": "code",
   "execution_count": 23,
   "metadata": {},
   "outputs": [],
   "source": [
    "# Decision Tree Classifier\n",
    "clf1 = tree.DecisionTreeClassifier()\n",
    "\n",
    "# Nearest Neighbours\n",
    "# Total Number of Training Data Sets are 11, hence 3/4/5 should be ideal value for N\n",
    "clf2 = KNeighborsClassifier(n_neighbors=4)\n",
    "\n",
    "# Gaussian Process\n",
    "clf3 = GaussianProcessClassifier()\n",
    "\n",
    "# Random Forest\n",
    "clf4 = RandomForestClassifier(n_estimators=4)\n",
    "\n",
    "# Neural Net\n",
    "clf5 = MLPClassifier()"
   ]
  },
  {
   "cell_type": "code",
   "execution_count": 24,
   "metadata": {},
   "outputs": [],
   "source": [
    "# [height, weight, shoe_size]\n",
    "\n",
    "X = [[181, 80, 44], [177, 70, 43], [160, 60, 38], [154, 54, 37], [166, 65, 40],\n",
    "     [190, 90, 47], [175, 64, 39],\n",
    "     [177, 70, 40], [159, 55, 37], [171, 75, 42], [181, 85, 43]]\n",
    "\n",
    "Y = ['male', 'male', 'female', 'female', 'male', 'male', 'female', 'female',\n",
    "     'female', 'male', 'male']"
   ]
  },
  {
   "cell_type": "code",
   "execution_count": 25,
   "metadata": {},
   "outputs": [],
   "source": [
    "clf1 = clf1.fit(X,Y)\n",
    "\n",
    "clf2 = clf2.fit(X,Y)\n",
    "\n",
    "clf3 = clf3.fit(X,Y)\n",
    "\n",
    "clf4 = clf4.fit(X,Y)\n",
    "\n",
    "# clf5 = clf5.fit(X,Y)"
   ]
  },
  {
   "cell_type": "code",
   "execution_count": 26,
   "metadata": {},
   "outputs": [
    {
     "name": "stdout",
     "output_type": "stream",
     "text": [
      "DTC Prediction = ['male']\n",
      "Nearest Neighbours = ['female']\n",
      "Gaussian Process = ['male']\n",
      "Random Forest = ['male']\n"
     ]
    }
   ],
   "source": [
    "prediction = clf1.predict([[190, 70, 43]])\n",
    "print('DTC Prediction = ' + str(prediction))\n",
    "\n",
    "prediction = clf2.predict([[190, 70, 43]])\n",
    "print('Nearest Neighbours = ' + str(prediction))\n",
    "\n",
    "prediction = clf3.predict([[190, 70, 43]])\n",
    "print('Gaussian Process = ' + str(prediction))\n",
    "\n",
    "prediction = clf4.predict([[190, 70, 43]])\n",
    "print('Random Forest = ' + str(prediction))\n",
    "\n",
    "# prediction = clf5.predict([[190, 70, 43]])\n",
    "# print('Neural Net = ' + str(prediction))"
   ]
  },
  {
   "cell_type": "markdown",
   "metadata": {},
   "source": [
    "## 3/4 of the Classifiers Predict that the given Height, Weight and Shoe Size are that of a MALE"
   ]
  },
  {
   "cell_type": "markdown",
   "metadata": {},
   "source": [
    "NOTE: The Neural Net Classifier Doesn't Seem To Work due to errors in Syntax"
   ]
  },
  {
   "cell_type": "markdown",
   "metadata": {},
   "source": [
    "FOR KNN, at n = 3 and n = 5, the prediction is 'MALE'"
   ]
  },
  {
   "cell_type": "code",
   "execution_count": null,
   "metadata": {},
   "outputs": [],
   "source": []
  }
 ],
 "metadata": {
  "kernelspec": {
   "display_name": "Python 3",
   "language": "python",
   "name": "python3"
  },
  "language_info": {
   "codemirror_mode": {
    "name": "ipython",
    "version": 3
   },
   "file_extension": ".py",
   "mimetype": "text/x-python",
   "name": "python",
   "nbconvert_exporter": "python",
   "pygments_lexer": "ipython3",
   "version": "3.6.5"
  }
 },
 "nbformat": 4,
 "nbformat_minor": 2
}
